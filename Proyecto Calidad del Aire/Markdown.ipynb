{
 "cells": [
  {
   "cell_type": "markdown",
   "metadata": {},
   "source": [
    "#Promedio de calidad del aire por ciudad\n",
    "SELECT City, Total_Population, \n",
    "AVG(Quality) AS AvgAirQuality \n",
    "FROM joined_data \n",
    "GROUP BY City,  Total_Population \n",
    "ORDER BY Population DESC, AvgAirQuality ASC \n",
    "LIMIT 10"
   ]
  },
  {
   "cell_type": "markdown",
   "metadata": {},
   "source": [
    "#Explicación\n",
    "Al analizar los resultados de la consulta, se observa que las ciudades con las peores calidades del aire tienen una mayor población. Se presenta una relación directa entre ambos aspectos, sin embargo no se descarta que haya otros factores que también influyan en dicho resultado como por ejemplo: concentración de las industrias, transporte, infraestructura de las ciudades o factores socioeconómicos (aunque no fueron tenidos en cuenta para el ejercicio)."
   ]
  }
 ],
 "metadata": {
  "kernelspec": {
   "display_name": "Python 3",
   "language": "python",
   "name": "python3"
  },
  "language_info": {
   "name": "python",
   "version": "3.12.0"
  }
 },
 "nbformat": 4,
 "nbformat_minor": 2
}
